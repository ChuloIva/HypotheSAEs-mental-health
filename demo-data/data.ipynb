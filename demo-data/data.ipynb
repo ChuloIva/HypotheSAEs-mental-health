{
 "cells": [
  {
   "cell_type": "code",
   "execution_count": 4,
   "id": "3f375cb6",
   "metadata": {},
   "outputs": [
    {
     "name": "stdout",
     "output_type": "stream",
     "text": [
      "label\n",
      "0    3900\n",
      "1    3831\n",
      "Name: count, dtype: int64\n",
      "Saved balanced train and test splits as CSV.\n"
     ]
    }
   ],
   "source": [
    "from datasets import load_dataset\n",
    "import pandas as pd\n",
    "from sklearn.model_selection import train_test_split\n",
    "import os\n",
    "from datasets import load_dataset\n",
    "\n",
    "# Load the auto-converted Parquet version\n",
    "ds = load_dataset(\"mrjunos/depression-reddit-cleaned\", revision=\"refs/convert/parquet\")\n",
    "\n",
    "\n",
    "# Convert to pandas DataFrame  \n",
    "df = ds['train'].to_pandas()\n",
    "\n",
    "\n",
    "\n",
    "os.makedirs(\"HypotheSAEs/demo-data\", exist_ok=True)\n",
    "\n",
    "# Convert to pandas DataFrame\n",
    "# df = ds.to_pandas()\n",
    "\n",
    "# Check label distribution\n",
    "print(df['label'].value_counts())\n",
    "\n",
    "# Stratified split to maintain label balance\n",
    "train_df, test_df = train_test_split(\n",
    "    df,\n",
    "    test_size=0.2,\n",
    "    stratify=df['label'],\n",
    "    random_state=42\n",
    ")\n",
    "\n",
    "# Optionally, ensure perfect balance (same number of 0s and 1s in each split)\n",
    "def balance_classes(df):\n",
    "    min_count = df['label'].value_counts().min()\n",
    "    return pd.concat([\n",
    "        df[df['label'] == 0].sample(min_count, random_state=42),\n",
    "        df[df['label'] == 1].sample(min_count, random_state=42)\n",
    "    ])\n",
    "\n",
    "train_df_balanced = balance_classes(train_df)\n",
    "test_df_balanced = balance_classes(test_df)\n",
    "\n",
    "# Save to CSV\n",
    "train_df_balanced.to_csv(\"HypotheSAEs/demo-data/reddit-depression-train.csv\", index=False)\n",
    "test_df_balanced.to_csv(\"HypotheSAEs/demo-data/reddit-depression-test.csv\", index=False)\n",
    "\n",
    "print(\"Saved balanced train and test splits as CSV.\")\n"
   ]
  }
 ],
 "metadata": {
  "kernelspec": {
   "display_name": ".venv",
   "language": "python",
   "name": "python3"
  },
  "language_info": {
   "codemirror_mode": {
    "name": "ipython",
    "version": 3
   },
   "file_extension": ".py",
   "mimetype": "text/x-python",
   "name": "python",
   "nbconvert_exporter": "python",
   "pygments_lexer": "ipython3",
   "version": "3.9.6"
  }
 },
 "nbformat": 4,
 "nbformat_minor": 5
}
